{
 "cells": [
  {
   "cell_type": "markdown",
   "id": "QEz8HobFLuW_",
   "metadata": {
    "id": "QEz8HobFLuW_"
   },
   "source": [
    "# Summary\n",
    "\n",
    "The dataset was provided by Tredence. It has \n",
    "42,748 rows and 14 columns.\n",
    "\n",
    "This is a multi class classifictaion problem.\n",
    "The problem stated is a hypothetical one where an exoplanet with varying seasons has been discovered and a part of the data collected, of fruits growing in different weather conditions has got corrupted.\n",
    "\n",
    "The aim is to identify the type of climate the exoplanet has based on the properties of the fruit with the existing challenge of missing data.\n",
    "\n",
    "\n",
    "---\n",
    "\n"
   ]
  },
  {
   "cell_type": "markdown",
   "id": "WpaVIBZWMyoX",
   "metadata": {
    "id": "WpaVIBZWMyoX"
   },
   "source": [
    "## Dataset Info:\n",
    "\n",
    "Columns: \n",
    "\n",
    "    ‘edible-poisonous’, 'cap-diameter', \n",
    "    'cap-shape', 'cap-color', \n",
    "    'does-bruise-or-bleed', 'gill-attachment', \n",
    "    'gill-color', 'stem-height', 'stem-width', \n",
    "    'stem-color', 'has-ring', 'ring-type', \n",
    "    'habitat', 'season'\n",
    "\n",
    "\n",
    "Independent Variables\n",
    "\n",
    "    edible-poisonous: edible=e, poisonous=p\n",
    "    cap-diameter: float number in cm\n",
    "    cap-shape: bell=b, conical=c, convex=x, flat=f, sunken=s, spherical=p, others=o\n",
    "    cap-color: brown=n, buff=b, gray=g, green=r, pink=p, purple=u, red=e, white=w, yellow=y, blue=l, orange=o, black=k\n",
    "    does-bruise-bleed: bruises-or-bleeding=t,no=f\n",
    "    gill-attachment: adnate=a, adnexed=x, decurrent=d, free=e, sinuate=s, pores=p, none=f\n",
    "    gill-color: see cap-color + none=f\n",
    "    stem-height: float number in cm\n",
    "    stem-width: float number in mm\n",
    "    stem-color: see cap-color + none=f\n",
    "    has-ring: ring=t, none=f\n",
    "    ring-type: cobwebby=c, evanescent=e, flaring=r, grooved=g, large=l, pendant=p, sheathing=s, zone=z, scaly=y, movable=m, none=f\n",
    "    habitat: grasses=g, leaves=l, meadows=m, paths=p, heaths=h, urban=u, waste=w, woods=d\n",
    "\n",
    "Dependent variable\n",
    "\n",
    "    season: spring=s, summer=u, autumn=a, winter=w"
   ]
  },
  {
   "cell_type": "code",
   "execution_count": 25,
   "id": "aeed2df3-8719-4534-848d-65f0cb32db28",
   "metadata": {
    "id": "aeed2df3-8719-4534-848d-65f0cb32db28"
   },
   "outputs": [],
   "source": [
    "# Load Necessary Libraries\n",
    "\n",
    "import os\n",
    "import pandas as pd\n",
    "import numpy as np\n",
    "from sklearn.model_selection import StratifiedShuffleSplit\n",
    "\n",
    "import seaborn as sns\n",
    "import matplotlib.pyplot as plt\n",
    "\n",
    "seed = 123"
   ]
  },
  {
   "cell_type": "code",
   "execution_count": 20,
   "id": "eed0eabb-5fc8-441a-8bfe-1334c57e6f26",
   "metadata": {},
   "outputs": [],
   "source": [
    "# Get parent directory (One level up)\n",
    "path_parent = os.path.dirname(os.getcwd())\n",
    "# Join path name as parent directory and file name\n",
    "path_file = os.path.join(path_parent, 'train.csv')"
   ]
  },
  {
   "cell_type": "code",
   "execution_count": 28,
   "id": "eb0dd9e6-ac24-4da0-8065-4dba59a008b6",
   "metadata": {
    "id": "eb0dd9e6-ac24-4da0-8065-4dba59a008b6"
   },
   "outputs": [],
   "source": [
    "df = pd.read_csv(path_file, sep = ',')"
   ]
  },
  {
   "cell_type": "code",
   "execution_count": 29,
   "id": "GYyCHu8ZkMxG",
   "metadata": {
    "colab": {
     "base_uri": "https://localhost:8080/",
     "height": 322
    },
    "id": "GYyCHu8ZkMxG",
    "outputId": "6197dac5-5e45-4ca8-ec4c-49bfbe077c0b"
   },
   "outputs": [
    {
     "data": {
      "text/html": [
       "<div>\n",
       "<style scoped>\n",
       "    .dataframe tbody tr th:only-of-type {\n",
       "        vertical-align: middle;\n",
       "    }\n",
       "\n",
       "    .dataframe tbody tr th {\n",
       "        vertical-align: top;\n",
       "    }\n",
       "\n",
       "    .dataframe thead th {\n",
       "        text-align: right;\n",
       "    }\n",
       "</style>\n",
       "<table border=\"1\" class=\"dataframe\">\n",
       "  <thead>\n",
       "    <tr style=\"text-align: right;\">\n",
       "      <th></th>\n",
       "      <th>edible-poisonous</th>\n",
       "      <th>cap-diameter</th>\n",
       "      <th>cap-shape</th>\n",
       "      <th>cap-color</th>\n",
       "      <th>does-bruise-or-bleed</th>\n",
       "      <th>gill-attachment</th>\n",
       "      <th>gill-color</th>\n",
       "      <th>stem-height</th>\n",
       "      <th>stem-width</th>\n",
       "      <th>stem-color</th>\n",
       "      <th>has-ring</th>\n",
       "      <th>ring-type</th>\n",
       "      <th>habitat</th>\n",
       "      <th>season</th>\n",
       "    </tr>\n",
       "  </thead>\n",
       "  <tbody>\n",
       "    <tr>\n",
       "      <th>0</th>\n",
       "      <td>p</td>\n",
       "      <td>5.75</td>\n",
       "      <td>x</td>\n",
       "      <td>n</td>\n",
       "      <td>t</td>\n",
       "      <td>s</td>\n",
       "      <td>w</td>\n",
       "      <td>6.13</td>\n",
       "      <td>14.93</td>\n",
       "      <td>w</td>\n",
       "      <td>f</td>\n",
       "      <td>f</td>\n",
       "      <td>d</td>\n",
       "      <td>a</td>\n",
       "    </tr>\n",
       "    <tr>\n",
       "      <th>1</th>\n",
       "      <td>p</td>\n",
       "      <td>2.27</td>\n",
       "      <td>o</td>\n",
       "      <td>g</td>\n",
       "      <td>f</td>\n",
       "      <td>f</td>\n",
       "      <td>f</td>\n",
       "      <td>0.00</td>\n",
       "      <td>0.00</td>\n",
       "      <td>f</td>\n",
       "      <td>f</td>\n",
       "      <td>f</td>\n",
       "      <td>d</td>\n",
       "      <td>s</td>\n",
       "    </tr>\n",
       "    <tr>\n",
       "      <th>2</th>\n",
       "      <td>p</td>\n",
       "      <td>5.59</td>\n",
       "      <td>c</td>\n",
       "      <td>y</td>\n",
       "      <td>t</td>\n",
       "      <td>x</td>\n",
       "      <td>p</td>\n",
       "      <td>5.47</td>\n",
       "      <td>11.27</td>\n",
       "      <td>w</td>\n",
       "      <td>f</td>\n",
       "      <td>f</td>\n",
       "      <td>d</td>\n",
       "      <td>a</td>\n",
       "    </tr>\n",
       "    <tr>\n",
       "      <th>3</th>\n",
       "      <td>p</td>\n",
       "      <td>0.74</td>\n",
       "      <td>x</td>\n",
       "      <td>p</td>\n",
       "      <td>f</td>\n",
       "      <td>a</td>\n",
       "      <td>n</td>\n",
       "      <td>4.33</td>\n",
       "      <td>0.98</td>\n",
       "      <td>k</td>\n",
       "      <td>f</td>\n",
       "      <td>f</td>\n",
       "      <td>d</td>\n",
       "      <td>a</td>\n",
       "    </tr>\n",
       "    <tr>\n",
       "      <th>4</th>\n",
       "      <td>p</td>\n",
       "      <td>9.60</td>\n",
       "      <td>x</td>\n",
       "      <td>n</td>\n",
       "      <td>f</td>\n",
       "      <td>a</td>\n",
       "      <td>w</td>\n",
       "      <td>10.84</td>\n",
       "      <td>28.52</td>\n",
       "      <td>w</td>\n",
       "      <td>f</td>\n",
       "      <td>f</td>\n",
       "      <td>d</td>\n",
       "      <td>u</td>\n",
       "    </tr>\n",
       "  </tbody>\n",
       "</table>\n",
       "</div>"
      ],
      "text/plain": [
       "  edible-poisonous  cap-diameter cap-shape cap-color does-bruise-or-bleed  \\\n",
       "0                p          5.75         x         n                    t   \n",
       "1                p          2.27         o         g                    f   \n",
       "2                p          5.59         c         y                    t   \n",
       "3                p          0.74         x         p                    f   \n",
       "4                p          9.60         x         n                    f   \n",
       "\n",
       "  gill-attachment gill-color  stem-height  stem-width stem-color has-ring  \\\n",
       "0               s          w         6.13       14.93          w        f   \n",
       "1               f          f         0.00        0.00          f        f   \n",
       "2               x          p         5.47       11.27          w        f   \n",
       "3               a          n         4.33        0.98          k        f   \n",
       "4               a          w        10.84       28.52          w        f   \n",
       "\n",
       "  ring-type habitat season  \n",
       "0         f       d      a  \n",
       "1         f       d      s  \n",
       "2         f       d      a  \n",
       "3         f       d      a  \n",
       "4         f       d      u  "
      ]
     },
     "execution_count": 29,
     "metadata": {},
     "output_type": "execute_result"
    }
   ],
   "source": [
    "df.head()"
   ]
  },
  {
   "cell_type": "markdown",
   "id": "VdRTEpnNp5uj",
   "metadata": {
    "id": "VdRTEpnNp5uj"
   },
   "source": [
    "# Check Data Integrity and Basic Univariate Statistics"
   ]
  },
  {
   "cell_type": "code",
   "execution_count": 4,
   "id": "e18f3117-abf8-4d00-82c6-4c64ee799f0f",
   "metadata": {
    "colab": {
     "base_uri": "https://localhost:8080/",
     "height": 254
    },
    "id": "e18f3117-abf8-4d00-82c6-4c64ee799f0f",
    "outputId": "07dafa08-7735-46f1-c27d-959cadd6bf60"
   },
   "outputs": [
    {
     "data": {
      "text/html": [
       "\n",
       "  <div id=\"df-c6efd902-0019-4385-95aa-85a0b48eee03\">\n",
       "    <div class=\"colab-df-container\">\n",
       "      <div>\n",
       "<style scoped>\n",
       "    .dataframe tbody tr th:only-of-type {\n",
       "        vertical-align: middle;\n",
       "    }\n",
       "\n",
       "    .dataframe tbody tr th {\n",
       "        vertical-align: top;\n",
       "    }\n",
       "\n",
       "    .dataframe thead th {\n",
       "        text-align: right;\n",
       "    }\n",
       "</style>\n",
       "<table border=\"1\" class=\"dataframe\">\n",
       "  <thead>\n",
       "    <tr style=\"text-align: right;\">\n",
       "      <th></th>\n",
       "      <th>edible-poisonous</th>\n",
       "      <th>cap-shape</th>\n",
       "      <th>cap-color</th>\n",
       "      <th>does-bruise-or-bleed</th>\n",
       "      <th>gill-attachment</th>\n",
       "      <th>gill-color</th>\n",
       "      <th>stem-color</th>\n",
       "      <th>has-ring</th>\n",
       "      <th>ring-type</th>\n",
       "      <th>habitat</th>\n",
       "      <th>season</th>\n",
       "    </tr>\n",
       "  </thead>\n",
       "  <tbody>\n",
       "    <tr>\n",
       "      <th>count</th>\n",
       "      <td>42748</td>\n",
       "      <td>42748</td>\n",
       "      <td>42748</td>\n",
       "      <td>42748</td>\n",
       "      <td>35808</td>\n",
       "      <td>42748</td>\n",
       "      <td>42748</td>\n",
       "      <td>42748</td>\n",
       "      <td>41029</td>\n",
       "      <td>42748</td>\n",
       "      <td>42748</td>\n",
       "    </tr>\n",
       "    <tr>\n",
       "      <th>unique</th>\n",
       "      <td>2</td>\n",
       "      <td>7</td>\n",
       "      <td>12</td>\n",
       "      <td>2</td>\n",
       "      <td>7</td>\n",
       "      <td>12</td>\n",
       "      <td>13</td>\n",
       "      <td>2</td>\n",
       "      <td>8</td>\n",
       "      <td>8</td>\n",
       "      <td>4</td>\n",
       "    </tr>\n",
       "    <tr>\n",
       "      <th>top</th>\n",
       "      <td>p</td>\n",
       "      <td>x</td>\n",
       "      <td>n</td>\n",
       "      <td>f</td>\n",
       "      <td>a</td>\n",
       "      <td>w</td>\n",
       "      <td>w</td>\n",
       "      <td>f</td>\n",
       "      <td>f</td>\n",
       "      <td>d</td>\n",
       "      <td>a</td>\n",
       "    </tr>\n",
       "    <tr>\n",
       "      <th>freq</th>\n",
       "      <td>23707</td>\n",
       "      <td>18884</td>\n",
       "      <td>16940</td>\n",
       "      <td>35335</td>\n",
       "      <td>8874</td>\n",
       "      <td>12930</td>\n",
       "      <td>16014</td>\n",
       "      <td>32138</td>\n",
       "      <td>33864</td>\n",
       "      <td>30934</td>\n",
       "      <td>21103</td>\n",
       "    </tr>\n",
       "  </tbody>\n",
       "</table>\n",
       "</div>\n",
       "      <button class=\"colab-df-convert\" onclick=\"convertToInteractive('df-c6efd902-0019-4385-95aa-85a0b48eee03')\"\n",
       "              title=\"Convert this dataframe to an interactive table.\"\n",
       "              style=\"display:none;\">\n",
       "        \n",
       "  <svg xmlns=\"http://www.w3.org/2000/svg\" height=\"24px\"viewBox=\"0 0 24 24\"\n",
       "       width=\"24px\">\n",
       "    <path d=\"M0 0h24v24H0V0z\" fill=\"none\"/>\n",
       "    <path d=\"M18.56 5.44l.94 2.06.94-2.06 2.06-.94-2.06-.94-.94-2.06-.94 2.06-2.06.94zm-11 1L8.5 8.5l.94-2.06 2.06-.94-2.06-.94L8.5 2.5l-.94 2.06-2.06.94zm10 10l.94 2.06.94-2.06 2.06-.94-2.06-.94-.94-2.06-.94 2.06-2.06.94z\"/><path d=\"M17.41 7.96l-1.37-1.37c-.4-.4-.92-.59-1.43-.59-.52 0-1.04.2-1.43.59L10.3 9.45l-7.72 7.72c-.78.78-.78 2.05 0 2.83L4 21.41c.39.39.9.59 1.41.59.51 0 1.02-.2 1.41-.59l7.78-7.78 2.81-2.81c.8-.78.8-2.07 0-2.86zM5.41 20L4 18.59l7.72-7.72 1.47 1.35L5.41 20z\"/>\n",
       "  </svg>\n",
       "      </button>\n",
       "      \n",
       "  <style>\n",
       "    .colab-df-container {\n",
       "      display:flex;\n",
       "      flex-wrap:wrap;\n",
       "      gap: 12px;\n",
       "    }\n",
       "\n",
       "    .colab-df-convert {\n",
       "      background-color: #E8F0FE;\n",
       "      border: none;\n",
       "      border-radius: 50%;\n",
       "      cursor: pointer;\n",
       "      display: none;\n",
       "      fill: #1967D2;\n",
       "      height: 32px;\n",
       "      padding: 0 0 0 0;\n",
       "      width: 32px;\n",
       "    }\n",
       "\n",
       "    .colab-df-convert:hover {\n",
       "      background-color: #E2EBFA;\n",
       "      box-shadow: 0px 1px 2px rgba(60, 64, 67, 0.3), 0px 1px 3px 1px rgba(60, 64, 67, 0.15);\n",
       "      fill: #174EA6;\n",
       "    }\n",
       "\n",
       "    [theme=dark] .colab-df-convert {\n",
       "      background-color: #3B4455;\n",
       "      fill: #D2E3FC;\n",
       "    }\n",
       "\n",
       "    [theme=dark] .colab-df-convert:hover {\n",
       "      background-color: #434B5C;\n",
       "      box-shadow: 0px 1px 3px 1px rgba(0, 0, 0, 0.15);\n",
       "      filter: drop-shadow(0px 1px 2px rgba(0, 0, 0, 0.3));\n",
       "      fill: #FFFFFF;\n",
       "    }\n",
       "  </style>\n",
       "\n",
       "      <script>\n",
       "        const buttonEl =\n",
       "          document.querySelector('#df-c6efd902-0019-4385-95aa-85a0b48eee03 button.colab-df-convert');\n",
       "        buttonEl.style.display =\n",
       "          google.colab.kernel.accessAllowed ? 'block' : 'none';\n",
       "\n",
       "        async function convertToInteractive(key) {\n",
       "          const element = document.querySelector('#df-c6efd902-0019-4385-95aa-85a0b48eee03');\n",
       "          const dataTable =\n",
       "            await google.colab.kernel.invokeFunction('convertToInteractive',\n",
       "                                                     [key], {});\n",
       "          if (!dataTable) return;\n",
       "\n",
       "          const docLinkHtml = 'Like what you see? Visit the ' +\n",
       "            '<a target=\"_blank\" href=https://colab.research.google.com/notebooks/data_table.ipynb>data table notebook</a>'\n",
       "            + ' to learn more about interactive tables.';\n",
       "          element.innerHTML = '';\n",
       "          dataTable['output_type'] = 'display_data';\n",
       "          await google.colab.output.renderOutput(dataTable, element);\n",
       "          const docLink = document.createElement('div');\n",
       "          docLink.innerHTML = docLinkHtml;\n",
       "          element.appendChild(docLink);\n",
       "        }\n",
       "      </script>\n",
       "    </div>\n",
       "  </div>\n",
       "  "
      ],
      "text/plain": [
       "       edible-poisonous cap-shape cap-color does-bruise-or-bleed  \\\n",
       "count             42748     42748     42748                42748   \n",
       "unique                2         7        12                    2   \n",
       "top                   p         x         n                    f   \n",
       "freq              23707     18884     16940                35335   \n",
       "\n",
       "       gill-attachment gill-color stem-color has-ring ring-type habitat season  \n",
       "count            35808      42748      42748    42748     41029   42748  42748  \n",
       "unique               7         12         13        2         8       8      4  \n",
       "top                  a          w          w        f         f       d      a  \n",
       "freq              8874      12930      16014    32138     33864   30934  21103  "
      ]
     },
     "execution_count": 4,
     "metadata": {},
     "output_type": "execute_result"
    }
   ],
   "source": [
    "df.describe(include = 'object')"
   ]
  },
  {
   "cell_type": "code",
   "execution_count": 5,
   "id": "3c5f420b-38c6-4dd1-a755-3aa98dbed594",
   "metadata": {
    "colab": {
     "base_uri": "https://localhost:8080/",
     "height": 300
    },
    "id": "3c5f420b-38c6-4dd1-a755-3aa98dbed594",
    "outputId": "259ec424-8326-4edf-ad9c-43e64a36b8bf"
   },
   "outputs": [
    {
     "data": {
      "text/html": [
       "\n",
       "  <div id=\"df-b1cd4784-e8cd-4e33-bd42-6a95c6bed4b6\">\n",
       "    <div class=\"colab-df-container\">\n",
       "      <div>\n",
       "<style scoped>\n",
       "    .dataframe tbody tr th:only-of-type {\n",
       "        vertical-align: middle;\n",
       "    }\n",
       "\n",
       "    .dataframe tbody tr th {\n",
       "        vertical-align: top;\n",
       "    }\n",
       "\n",
       "    .dataframe thead th {\n",
       "        text-align: right;\n",
       "    }\n",
       "</style>\n",
       "<table border=\"1\" class=\"dataframe\">\n",
       "  <thead>\n",
       "    <tr style=\"text-align: right;\">\n",
       "      <th></th>\n",
       "      <th>cap-diameter</th>\n",
       "      <th>stem-height</th>\n",
       "      <th>stem-width</th>\n",
       "    </tr>\n",
       "  </thead>\n",
       "  <tbody>\n",
       "    <tr>\n",
       "      <th>count</th>\n",
       "      <td>42748.000000</td>\n",
       "      <td>42748.000000</td>\n",
       "      <td>42748.000000</td>\n",
       "    </tr>\n",
       "    <tr>\n",
       "      <th>mean</th>\n",
       "      <td>6.712018</td>\n",
       "      <td>6.580449</td>\n",
       "      <td>12.133964</td>\n",
       "    </tr>\n",
       "    <tr>\n",
       "      <th>std</th>\n",
       "      <td>5.203768</td>\n",
       "      <td>3.368385</td>\n",
       "      <td>10.058929</td>\n",
       "    </tr>\n",
       "    <tr>\n",
       "      <th>min</th>\n",
       "      <td>0.380000</td>\n",
       "      <td>0.000000</td>\n",
       "      <td>0.000000</td>\n",
       "    </tr>\n",
       "    <tr>\n",
       "      <th>25%</th>\n",
       "      <td>3.480000</td>\n",
       "      <td>4.640000</td>\n",
       "      <td>5.190000</td>\n",
       "    </tr>\n",
       "    <tr>\n",
       "      <th>50%</th>\n",
       "      <td>5.840000</td>\n",
       "      <td>5.950000</td>\n",
       "      <td>10.140000</td>\n",
       "    </tr>\n",
       "    <tr>\n",
       "      <th>75%</th>\n",
       "      <td>8.540000</td>\n",
       "      <td>7.740000</td>\n",
       "      <td>16.530000</td>\n",
       "    </tr>\n",
       "    <tr>\n",
       "      <th>max</th>\n",
       "      <td>62.340000</td>\n",
       "      <td>33.920000</td>\n",
       "      <td>103.910000</td>\n",
       "    </tr>\n",
       "  </tbody>\n",
       "</table>\n",
       "</div>\n",
       "      <button class=\"colab-df-convert\" onclick=\"convertToInteractive('df-b1cd4784-e8cd-4e33-bd42-6a95c6bed4b6')\"\n",
       "              title=\"Convert this dataframe to an interactive table.\"\n",
       "              style=\"display:none;\">\n",
       "        \n",
       "  <svg xmlns=\"http://www.w3.org/2000/svg\" height=\"24px\"viewBox=\"0 0 24 24\"\n",
       "       width=\"24px\">\n",
       "    <path d=\"M0 0h24v24H0V0z\" fill=\"none\"/>\n",
       "    <path d=\"M18.56 5.44l.94 2.06.94-2.06 2.06-.94-2.06-.94-.94-2.06-.94 2.06-2.06.94zm-11 1L8.5 8.5l.94-2.06 2.06-.94-2.06-.94L8.5 2.5l-.94 2.06-2.06.94zm10 10l.94 2.06.94-2.06 2.06-.94-2.06-.94-.94-2.06-.94 2.06-2.06.94z\"/><path d=\"M17.41 7.96l-1.37-1.37c-.4-.4-.92-.59-1.43-.59-.52 0-1.04.2-1.43.59L10.3 9.45l-7.72 7.72c-.78.78-.78 2.05 0 2.83L4 21.41c.39.39.9.59 1.41.59.51 0 1.02-.2 1.41-.59l7.78-7.78 2.81-2.81c.8-.78.8-2.07 0-2.86zM5.41 20L4 18.59l7.72-7.72 1.47 1.35L5.41 20z\"/>\n",
       "  </svg>\n",
       "      </button>\n",
       "      \n",
       "  <style>\n",
       "    .colab-df-container {\n",
       "      display:flex;\n",
       "      flex-wrap:wrap;\n",
       "      gap: 12px;\n",
       "    }\n",
       "\n",
       "    .colab-df-convert {\n",
       "      background-color: #E8F0FE;\n",
       "      border: none;\n",
       "      border-radius: 50%;\n",
       "      cursor: pointer;\n",
       "      display: none;\n",
       "      fill: #1967D2;\n",
       "      height: 32px;\n",
       "      padding: 0 0 0 0;\n",
       "      width: 32px;\n",
       "    }\n",
       "\n",
       "    .colab-df-convert:hover {\n",
       "      background-color: #E2EBFA;\n",
       "      box-shadow: 0px 1px 2px rgba(60, 64, 67, 0.3), 0px 1px 3px 1px rgba(60, 64, 67, 0.15);\n",
       "      fill: #174EA6;\n",
       "    }\n",
       "\n",
       "    [theme=dark] .colab-df-convert {\n",
       "      background-color: #3B4455;\n",
       "      fill: #D2E3FC;\n",
       "    }\n",
       "\n",
       "    [theme=dark] .colab-df-convert:hover {\n",
       "      background-color: #434B5C;\n",
       "      box-shadow: 0px 1px 3px 1px rgba(0, 0, 0, 0.15);\n",
       "      filter: drop-shadow(0px 1px 2px rgba(0, 0, 0, 0.3));\n",
       "      fill: #FFFFFF;\n",
       "    }\n",
       "  </style>\n",
       "\n",
       "      <script>\n",
       "        const buttonEl =\n",
       "          document.querySelector('#df-b1cd4784-e8cd-4e33-bd42-6a95c6bed4b6 button.colab-df-convert');\n",
       "        buttonEl.style.display =\n",
       "          google.colab.kernel.accessAllowed ? 'block' : 'none';\n",
       "\n",
       "        async function convertToInteractive(key) {\n",
       "          const element = document.querySelector('#df-b1cd4784-e8cd-4e33-bd42-6a95c6bed4b6');\n",
       "          const dataTable =\n",
       "            await google.colab.kernel.invokeFunction('convertToInteractive',\n",
       "                                                     [key], {});\n",
       "          if (!dataTable) return;\n",
       "\n",
       "          const docLinkHtml = 'Like what you see? Visit the ' +\n",
       "            '<a target=\"_blank\" href=https://colab.research.google.com/notebooks/data_table.ipynb>data table notebook</a>'\n",
       "            + ' to learn more about interactive tables.';\n",
       "          element.innerHTML = '';\n",
       "          dataTable['output_type'] = 'display_data';\n",
       "          await google.colab.output.renderOutput(dataTable, element);\n",
       "          const docLink = document.createElement('div');\n",
       "          docLink.innerHTML = docLinkHtml;\n",
       "          element.appendChild(docLink);\n",
       "        }\n",
       "      </script>\n",
       "    </div>\n",
       "  </div>\n",
       "  "
      ],
      "text/plain": [
       "       cap-diameter   stem-height    stem-width\n",
       "count  42748.000000  42748.000000  42748.000000\n",
       "mean       6.712018      6.580449     12.133964\n",
       "std        5.203768      3.368385     10.058929\n",
       "min        0.380000      0.000000      0.000000\n",
       "25%        3.480000      4.640000      5.190000\n",
       "50%        5.840000      5.950000     10.140000\n",
       "75%        8.540000      7.740000     16.530000\n",
       "max       62.340000     33.920000    103.910000"
      ]
     },
     "execution_count": 5,
     "metadata": {},
     "output_type": "execute_result"
    }
   ],
   "source": [
    "df.describe()"
   ]
  },
  {
   "cell_type": "code",
   "execution_count": 6,
   "id": "ZE3GyyFTpXSM",
   "metadata": {
    "colab": {
     "base_uri": "https://localhost:8080/"
    },
    "id": "ZE3GyyFTpXSM",
    "outputId": "02fca516-cc9f-449d-8d9a-e176709a5013"
   },
   "outputs": [
    {
     "name": "stdout",
     "output_type": "stream",
     "text": [
      "<class 'pandas.core.frame.DataFrame'>\n",
      "RangeIndex: 42748 entries, 0 to 42747\n",
      "Data columns (total 14 columns):\n",
      " #   Column                Non-Null Count  Dtype  \n",
      "---  ------                --------------  -----  \n",
      " 0   edible-poisonous      42748 non-null  object \n",
      " 1   cap-diameter          42748 non-null  float64\n",
      " 2   cap-shape             42748 non-null  object \n",
      " 3   cap-color             42748 non-null  object \n",
      " 4   does-bruise-or-bleed  42748 non-null  object \n",
      " 5   gill-attachment       35808 non-null  object \n",
      " 6   gill-color            42748 non-null  object \n",
      " 7   stem-height           42748 non-null  float64\n",
      " 8   stem-width            42748 non-null  float64\n",
      " 9   stem-color            42748 non-null  object \n",
      " 10  has-ring              42748 non-null  object \n",
      " 11  ring-type             41029 non-null  object \n",
      " 12  habitat               42748 non-null  object \n",
      " 13  season                42748 non-null  object \n",
      "dtypes: float64(3), object(11)\n",
      "memory usage: 4.6+ MB\n"
     ]
    }
   ],
   "source": [
    "df.info()"
   ]
  },
  {
   "cell_type": "markdown",
   "id": "lEi3mEUjqEJF",
   "metadata": {
    "id": "lEi3mEUjqEJF"
   },
   "source": [
    "We can save columns names and also further subdivision of columns - numeric, binary and categorical(more than 2) as variables"
   ]
  },
  {
   "cell_type": "code",
   "execution_count": 7,
   "id": "6681371d-6481-4a89-9e9a-c9baeedcae13",
   "metadata": {
    "id": "6681371d-6481-4a89-9e9a-c9baeedcae13"
   },
   "outputs": [],
   "source": [
    "features = ['edible-poisonous', 'cap-diameter', 'cap-shape', 'cap-color',\n",
    "       'does-bruise-or-bleed', 'gill-attachment', 'gill-color', 'stem-height',\n",
    "       'stem-width', 'stem-color', 'has-ring', 'ring-type', 'habitat']"
   ]
  },
  {
   "cell_type": "code",
   "execution_count": 8,
   "id": "27eeac3f-492f-4ded-9396-ef3f37d1ebab",
   "metadata": {
    "id": "27eeac3f-492f-4ded-9396-ef3f37d1ebab",
    "tags": []
   },
   "outputs": [],
   "source": [
    "num_col = df.select_dtypes('float64').columns.values"
   ]
  },
  {
   "cell_type": "code",
   "execution_count": 9,
   "id": "2b2eac3b-2f63-476f-a093-4787eaffb3df",
   "metadata": {
    "id": "2b2eac3b-2f63-476f-a093-4787eaffb3df"
   },
   "outputs": [],
   "source": [
    "bin_col = df[features].loc[:, df[features].nunique() == 2].columns.values"
   ]
  },
  {
   "cell_type": "code",
   "execution_count": 10,
   "id": "c43e7869-0bda-4dea-9b67-6960ea9b5e07",
   "metadata": {
    "id": "c43e7869-0bda-4dea-9b67-6960ea9b5e07"
   },
   "outputs": [],
   "source": [
    "cat_col = df[features].loc[:, df[features].nunique().between(3,15)].columns.values"
   ]
  },
  {
   "cell_type": "markdown",
   "id": "otFQYjlMnzsG",
   "metadata": {
    "id": "otFQYjlMnzsG"
   },
   "source": [
    "# Splitting the Data"
   ]
  },
  {
   "cell_type": "markdown",
   "id": "-yz2KX-xni-s",
   "metadata": {
    "id": "-yz2KX-xni-s"
   },
   "source": [
    "Before splitting the data into train - test sets we will checking distribution of response variable"
   ]
  },
  {
   "cell_type": "code",
   "execution_count": 11,
   "id": "9e0e3979-6c1f-4fce-b5c5-b4705ca9c4e2",
   "metadata": {
    "colab": {
     "base_uri": "https://localhost:8080/"
    },
    "id": "9e0e3979-6c1f-4fce-b5c5-b4705ca9c4e2",
    "outputId": "6fc8ef49-bc06-4ff2-e6c8-648e4acc942d"
   },
   "outputs": [
    {
     "data": {
      "text/plain": [
       "a    0.493661\n",
       "u    0.375573\n",
       "w    0.086507\n",
       "s    0.044259\n",
       "Name: season, dtype: float64"
      ]
     },
     "execution_count": 11,
     "metadata": {},
     "output_type": "execute_result"
    }
   ],
   "source": [
    "df['season'].value_counts(normalize = True)"
   ]
  },
  {
   "cell_type": "markdown",
   "id": "-rVtZOBooKBO",
   "metadata": {
    "id": "-rVtZOBooKBO"
   },
   "source": [
    "We notice the outcome variable is heavily unbalanced and thus will split it using stratified shuffle split"
   ]
  },
  {
   "cell_type": "code",
   "execution_count": 12,
   "id": "7c86b6e0-94d5-4652-a863-9f440ca91ed4",
   "metadata": {
    "colab": {
     "base_uri": "https://localhost:8080/"
    },
    "id": "7c86b6e0-94d5-4652-a863-9f440ca91ed4",
    "outputId": "f7466c35-d95e-4f2f-b70d-0c07bf6eea90"
   },
   "outputs": [
    {
     "data": {
      "text/plain": [
       "(29923, 12825)"
      ]
     },
     "execution_count": 12,
     "metadata": {},
     "output_type": "execute_result"
    }
   ],
   "source": [
    "strat_shuf_split = StratifiedShuffleSplit(n_splits = 1, \n",
    "                                          test_size = 0.3, \n",
    "                                          random_state = seed)\n",
    "\n",
    "train_idx, test_idx = next(strat_shuf_split.split(df[features], df.season))\n",
    "\n",
    "# Create the dataframes\n",
    "X_train = df.loc[train_idx, features]\n",
    "y_train = df.loc[train_idx, 'season']\n",
    "\n",
    "X_test  = df.loc[test_idx, features]\n",
    "y_test  = df.loc[test_idx, 'season']\n",
    "\n",
    "len(X_train), len(X_test)"
   ]
  },
  {
   "cell_type": "code",
   "execution_count": 13,
   "id": "4a850a56-0c52-4cab-8f3c-d95634471a81",
   "metadata": {
    "colab": {
     "base_uri": "https://localhost:8080/",
     "height": 322
    },
    "id": "4a850a56-0c52-4cab-8f3c-d95634471a81",
    "outputId": "bc6df1c8-993d-45d4-a405-bbf4aee8ebd1"
   },
   "outputs": [
    {
     "data": {
      "text/html": [
       "\n",
       "  <div id=\"df-50ea4db6-3bac-4ffe-9b88-7b7c76e7436b\">\n",
       "    <div class=\"colab-df-container\">\n",
       "      <div>\n",
       "<style scoped>\n",
       "    .dataframe tbody tr th:only-of-type {\n",
       "        vertical-align: middle;\n",
       "    }\n",
       "\n",
       "    .dataframe tbody tr th {\n",
       "        vertical-align: top;\n",
       "    }\n",
       "\n",
       "    .dataframe thead th {\n",
       "        text-align: right;\n",
       "    }\n",
       "</style>\n",
       "<table border=\"1\" class=\"dataframe\">\n",
       "  <thead>\n",
       "    <tr style=\"text-align: right;\">\n",
       "      <th></th>\n",
       "      <th>edible-poisonous</th>\n",
       "      <th>cap-diameter</th>\n",
       "      <th>cap-shape</th>\n",
       "      <th>cap-color</th>\n",
       "      <th>does-bruise-or-bleed</th>\n",
       "      <th>gill-attachment</th>\n",
       "      <th>gill-color</th>\n",
       "      <th>stem-height</th>\n",
       "      <th>stem-width</th>\n",
       "      <th>stem-color</th>\n",
       "      <th>has-ring</th>\n",
       "      <th>ring-type</th>\n",
       "      <th>habitat</th>\n",
       "      <th>season</th>\n",
       "    </tr>\n",
       "  </thead>\n",
       "  <tbody>\n",
       "    <tr>\n",
       "      <th>25022</th>\n",
       "      <td>e</td>\n",
       "      <td>7.86</td>\n",
       "      <td>x</td>\n",
       "      <td>w</td>\n",
       "      <td>f</td>\n",
       "      <td>d</td>\n",
       "      <td>w</td>\n",
       "      <td>3.74</td>\n",
       "      <td>11.49</td>\n",
       "      <td>w</td>\n",
       "      <td>f</td>\n",
       "      <td>f</td>\n",
       "      <td>g</td>\n",
       "      <td>a</td>\n",
       "    </tr>\n",
       "    <tr>\n",
       "      <th>38086</th>\n",
       "      <td>e</td>\n",
       "      <td>4.10</td>\n",
       "      <td>x</td>\n",
       "      <td>n</td>\n",
       "      <td>f</td>\n",
       "      <td>p</td>\n",
       "      <td>n</td>\n",
       "      <td>7.48</td>\n",
       "      <td>12.21</td>\n",
       "      <td>e</td>\n",
       "      <td>f</td>\n",
       "      <td>f</td>\n",
       "      <td>d</td>\n",
       "      <td>a</td>\n",
       "    </tr>\n",
       "    <tr>\n",
       "      <th>2272</th>\n",
       "      <td>p</td>\n",
       "      <td>2.28</td>\n",
       "      <td>c</td>\n",
       "      <td>y</td>\n",
       "      <td>f</td>\n",
       "      <td>NaN</td>\n",
       "      <td>y</td>\n",
       "      <td>8.57</td>\n",
       "      <td>3.39</td>\n",
       "      <td>y</td>\n",
       "      <td>f</td>\n",
       "      <td>f</td>\n",
       "      <td>g</td>\n",
       "      <td>u</td>\n",
       "    </tr>\n",
       "    <tr>\n",
       "      <th>15229</th>\n",
       "      <td>e</td>\n",
       "      <td>5.12</td>\n",
       "      <td>f</td>\n",
       "      <td>n</td>\n",
       "      <td>f</td>\n",
       "      <td>a</td>\n",
       "      <td>y</td>\n",
       "      <td>7.60</td>\n",
       "      <td>5.24</td>\n",
       "      <td>o</td>\n",
       "      <td>f</td>\n",
       "      <td>f</td>\n",
       "      <td>d</td>\n",
       "      <td>w</td>\n",
       "    </tr>\n",
       "    <tr>\n",
       "      <th>3038</th>\n",
       "      <td>e</td>\n",
       "      <td>1.27</td>\n",
       "      <td>x</td>\n",
       "      <td>y</td>\n",
       "      <td>f</td>\n",
       "      <td>a</td>\n",
       "      <td>w</td>\n",
       "      <td>5.62</td>\n",
       "      <td>2.01</td>\n",
       "      <td>y</td>\n",
       "      <td>f</td>\n",
       "      <td>f</td>\n",
       "      <td>d</td>\n",
       "      <td>a</td>\n",
       "    </tr>\n",
       "  </tbody>\n",
       "</table>\n",
       "</div>\n",
       "      <button class=\"colab-df-convert\" onclick=\"convertToInteractive('df-50ea4db6-3bac-4ffe-9b88-7b7c76e7436b')\"\n",
       "              title=\"Convert this dataframe to an interactive table.\"\n",
       "              style=\"display:none;\">\n",
       "        \n",
       "  <svg xmlns=\"http://www.w3.org/2000/svg\" height=\"24px\"viewBox=\"0 0 24 24\"\n",
       "       width=\"24px\">\n",
       "    <path d=\"M0 0h24v24H0V0z\" fill=\"none\"/>\n",
       "    <path d=\"M18.56 5.44l.94 2.06.94-2.06 2.06-.94-2.06-.94-.94-2.06-.94 2.06-2.06.94zm-11 1L8.5 8.5l.94-2.06 2.06-.94-2.06-.94L8.5 2.5l-.94 2.06-2.06.94zm10 10l.94 2.06.94-2.06 2.06-.94-2.06-.94-.94-2.06-.94 2.06-2.06.94z\"/><path d=\"M17.41 7.96l-1.37-1.37c-.4-.4-.92-.59-1.43-.59-.52 0-1.04.2-1.43.59L10.3 9.45l-7.72 7.72c-.78.78-.78 2.05 0 2.83L4 21.41c.39.39.9.59 1.41.59.51 0 1.02-.2 1.41-.59l7.78-7.78 2.81-2.81c.8-.78.8-2.07 0-2.86zM5.41 20L4 18.59l7.72-7.72 1.47 1.35L5.41 20z\"/>\n",
       "  </svg>\n",
       "      </button>\n",
       "      \n",
       "  <style>\n",
       "    .colab-df-container {\n",
       "      display:flex;\n",
       "      flex-wrap:wrap;\n",
       "      gap: 12px;\n",
       "    }\n",
       "\n",
       "    .colab-df-convert {\n",
       "      background-color: #E8F0FE;\n",
       "      border: none;\n",
       "      border-radius: 50%;\n",
       "      cursor: pointer;\n",
       "      display: none;\n",
       "      fill: #1967D2;\n",
       "      height: 32px;\n",
       "      padding: 0 0 0 0;\n",
       "      width: 32px;\n",
       "    }\n",
       "\n",
       "    .colab-df-convert:hover {\n",
       "      background-color: #E2EBFA;\n",
       "      box-shadow: 0px 1px 2px rgba(60, 64, 67, 0.3), 0px 1px 3px 1px rgba(60, 64, 67, 0.15);\n",
       "      fill: #174EA6;\n",
       "    }\n",
       "\n",
       "    [theme=dark] .colab-df-convert {\n",
       "      background-color: #3B4455;\n",
       "      fill: #D2E3FC;\n",
       "    }\n",
       "\n",
       "    [theme=dark] .colab-df-convert:hover {\n",
       "      background-color: #434B5C;\n",
       "      box-shadow: 0px 1px 3px 1px rgba(0, 0, 0, 0.15);\n",
       "      filter: drop-shadow(0px 1px 2px rgba(0, 0, 0, 0.3));\n",
       "      fill: #FFFFFF;\n",
       "    }\n",
       "  </style>\n",
       "\n",
       "      <script>\n",
       "        const buttonEl =\n",
       "          document.querySelector('#df-50ea4db6-3bac-4ffe-9b88-7b7c76e7436b button.colab-df-convert');\n",
       "        buttonEl.style.display =\n",
       "          google.colab.kernel.accessAllowed ? 'block' : 'none';\n",
       "\n",
       "        async function convertToInteractive(key) {\n",
       "          const element = document.querySelector('#df-50ea4db6-3bac-4ffe-9b88-7b7c76e7436b');\n",
       "          const dataTable =\n",
       "            await google.colab.kernel.invokeFunction('convertToInteractive',\n",
       "                                                     [key], {});\n",
       "          if (!dataTable) return;\n",
       "\n",
       "          const docLinkHtml = 'Like what you see? Visit the ' +\n",
       "            '<a target=\"_blank\" href=https://colab.research.google.com/notebooks/data_table.ipynb>data table notebook</a>'\n",
       "            + ' to learn more about interactive tables.';\n",
       "          element.innerHTML = '';\n",
       "          dataTable['output_type'] = 'display_data';\n",
       "          await google.colab.output.renderOutput(dataTable, element);\n",
       "          const docLink = document.createElement('div');\n",
       "          docLink.innerHTML = docLinkHtml;\n",
       "          element.appendChild(docLink);\n",
       "        }\n",
       "      </script>\n",
       "    </div>\n",
       "  </div>\n",
       "  "
      ],
      "text/plain": [
       "      edible-poisonous  cap-diameter cap-shape cap-color does-bruise-or-bleed  \\\n",
       "25022                e          7.86         x         w                    f   \n",
       "38086                e          4.10         x         n                    f   \n",
       "2272                 p          2.28         c         y                    f   \n",
       "15229                e          5.12         f         n                    f   \n",
       "3038                 e          1.27         x         y                    f   \n",
       "\n",
       "      gill-attachment gill-color  stem-height  stem-width stem-color has-ring  \\\n",
       "25022               d          w         3.74       11.49          w        f   \n",
       "38086               p          n         7.48       12.21          e        f   \n",
       "2272              NaN          y         8.57        3.39          y        f   \n",
       "15229               a          y         7.60        5.24          o        f   \n",
       "3038                a          w         5.62        2.01          y        f   \n",
       "\n",
       "      ring-type habitat season  \n",
       "25022         f       g      a  \n",
       "38086         f       d      a  \n",
       "2272          f       g      u  \n",
       "15229         f       d      w  \n",
       "3038          f       d      a  "
      ]
     },
     "execution_count": 13,
     "metadata": {},
     "output_type": "execute_result"
    }
   ],
   "source": [
    "# Joining explanatory and outcome data to make it easier for us to perform EDA\n",
    "\n",
    "Xy_train = pd.concat([X_train, y_train], axis = 1)\n",
    "Xy_test = pd.concat([X_test, y_test], axis =1)\n",
    "\n",
    "Xy_train.head()"
   ]
  },
  {
   "cell_type": "markdown",
   "id": "0aac3e38-765e-4415-aec9-52ce9e05c52f",
   "metadata": {
    "id": "0aac3e38-765e-4415-aec9-52ce9e05c52f"
   },
   "source": [
    "-------------------"
   ]
  },
  {
   "cell_type": "markdown",
   "id": "af31f39e-e45d-4b79-a575-2e9b66f654c7",
   "metadata": {
    "id": "af31f39e-e45d-4b79-a575-2e9b66f654c7"
   },
   "source": [
    "#  Checking Missing Values"
   ]
  },
  {
   "cell_type": "code",
   "execution_count": 14,
   "id": "9206a4a3-50d2-4084-a2db-e63333499407",
   "metadata": {
    "colab": {
     "base_uri": "https://localhost:8080/"
    },
    "id": "9206a4a3-50d2-4084-a2db-e63333499407",
    "outputId": "5feb7eec-f08d-4c84-d732-4e87bd0f63eb"
   },
   "outputs": [
    {
     "data": {
      "text/plain": [
       "edible-poisonous           0\n",
       "cap-diameter               0\n",
       "cap-shape                  0\n",
       "cap-color                  0\n",
       "does-bruise-or-bleed       0\n",
       "gill-attachment         4877\n",
       "gill-color                 0\n",
       "stem-height                0\n",
       "stem-width                 0\n",
       "stem-color                 0\n",
       "has-ring                   0\n",
       "ring-type               1238\n",
       "habitat                    0\n",
       "season                     0\n",
       "dtype: int64"
      ]
     },
     "execution_count": 14,
     "metadata": {},
     "output_type": "execute_result"
    }
   ],
   "source": [
    "Xy_train.isnull().sum()"
   ]
  },
  {
   "cell_type": "markdown",
   "id": "fGrLFWE3g7pP",
   "metadata": {
    "id": "fGrLFWE3g7pP"
   },
   "source": [
    "Percentage of missing values"
   ]
  },
  {
   "cell_type": "code",
   "execution_count": 15,
   "id": "d6ad9e77-7072-48da-a71a-c6259bbb48d4",
   "metadata": {
    "colab": {
     "base_uri": "https://localhost:8080/"
    },
    "id": "d6ad9e77-7072-48da-a71a-c6259bbb48d4",
    "outputId": "9f4d3060-0f60-433c-be52-dee30ce8fc14"
   },
   "outputs": [
    {
     "data": {
      "text/plain": [
       "16"
      ]
     },
     "execution_count": 15,
     "metadata": {},
     "output_type": "execute_result"
    }
   ],
   "source": [
    "round((Xy_train['gill-attachment'].isnull().sum() / Xy_train.shape[0]) * 100)"
   ]
  },
  {
   "cell_type": "code",
   "execution_count": 16,
   "id": "dywAV7r6fhks",
   "metadata": {
    "colab": {
     "base_uri": "https://localhost:8080/"
    },
    "id": "dywAV7r6fhks",
    "outputId": "f124035b-1dc6-4c85-cb8d-3c7ff3dee6d3"
   },
   "outputs": [
    {
     "data": {
      "text/plain": [
       "4"
      ]
     },
     "execution_count": 16,
     "metadata": {},
     "output_type": "execute_result"
    }
   ],
   "source": [
    "round((Xy_train['ring-type'].isnull().sum() / Xy_train.shape[0]) * 100)"
   ]
  },
  {
   "cell_type": "markdown",
   "id": "a4ee1146-b796-4361-be23-2e3241b93d25",
   "metadata": {
    "id": "a4ee1146-b796-4361-be23-2e3241b93d25"
   },
   "source": [
    "The missing values are of categorical type and the precentage of missing values isn't extremely high.\n",
    "\n",
    "There are several methods to fix missing values\n",
    "Here we will be replacing missing values with a new category type 'miss' and also add an additional binary column to the corresponding column to indicate missing values\n",
    "\n",
    "Note: Another way of tackling missing values is to make use of a supervised classifcation M/L model and predict those values. Although, this method might be more efficient, it is also more computer expensive.\n"
   ]
  },
  {
   "cell_type": "code",
   "execution_count": 17,
   "id": "64fe07c5-3f89-4c36-915e-f7e6735b38da",
   "metadata": {
    "id": "64fe07c5-3f89-4c36-915e-f7e6735b38da"
   },
   "outputs": [],
   "source": [
    "Xy_train['miss_gill'] = Xy_train['gill-attachment'].fillna(0)"
   ]
  },
  {
   "cell_type": "code",
   "execution_count": 18,
   "id": "02007fda-0eff-4aac-aab0-b3137dd52a6c",
   "metadata": {
    "id": "02007fda-0eff-4aac-aab0-b3137dd52a6c"
   },
   "outputs": [],
   "source": [
    "Xy_train['miss_ring'] = Xy_train['ring-type'].fillna(0)"
   ]
  },
  {
   "cell_type": "code",
   "execution_count": 19,
   "id": "52aabb67-faf0-4a75-b551-78c4f2b027d6",
   "metadata": {
    "id": "52aabb67-faf0-4a75-b551-78c4f2b027d6"
   },
   "outputs": [],
   "source": [
    "Xy_train['miss_gill'].where(Xy_train['miss_gill'] == 0, 1, inplace = True)"
   ]
  },
  {
   "cell_type": "code",
   "execution_count": 20,
   "id": "7ce46363-0101-4077-b893-0de3e7991e85",
   "metadata": {
    "id": "7ce46363-0101-4077-b893-0de3e7991e85"
   },
   "outputs": [],
   "source": [
    "Xy_train['miss_ring'].where(Xy_train['miss_ring'] == 0, 1, inplace = True)"
   ]
  },
  {
   "cell_type": "code",
   "execution_count": 21,
   "id": "8e9464f7-016c-47ad-a6f1-0ef02d3dd144",
   "metadata": {
    "id": "8e9464f7-016c-47ad-a6f1-0ef02d3dd144"
   },
   "outputs": [],
   "source": [
    "Xy_train = Xy_train.fillna('miss')"
   ]
  },
  {
   "cell_type": "code",
   "execution_count": 22,
   "id": "398e1595-6c31-46d6-801b-8ec69c0d617a",
   "metadata": {
    "colab": {
     "base_uri": "https://localhost:8080/"
    },
    "id": "398e1595-6c31-46d6-801b-8ec69c0d617a",
    "outputId": "74684f83-e14e-4063-99ec-725ac82fa7f3"
   },
   "outputs": [
    {
     "data": {
      "text/plain": [
       "edible-poisonous        0\n",
       "cap-diameter            0\n",
       "cap-shape               0\n",
       "cap-color               0\n",
       "does-bruise-or-bleed    0\n",
       "gill-attachment         0\n",
       "gill-color              0\n",
       "stem-height             0\n",
       "stem-width              0\n",
       "stem-color              0\n",
       "has-ring                0\n",
       "ring-type               0\n",
       "habitat                 0\n",
       "season                  0\n",
       "miss_gill               0\n",
       "miss_ring               0\n",
       "dtype: int64"
      ]
     },
     "execution_count": 22,
     "metadata": {},
     "output_type": "execute_result"
    }
   ],
   "source": [
    "Xy_train.isnull().sum()"
   ]
  },
  {
   "cell_type": "code",
   "execution_count": 23,
   "id": "d5f98a21-69c2-4c0f-9ff1-b38b8164be00",
   "metadata": {
    "colab": {
     "base_uri": "https://localhost:8080/"
    },
    "id": "d5f98a21-69c2-4c0f-9ff1-b38b8164be00",
    "outputId": "5cfeabe3-f5cb-47aa-b05c-d8e2dd9d1fca"
   },
   "outputs": [
    {
     "data": {
      "text/plain": [
       "edible-poisonous         object\n",
       "cap-diameter            float64\n",
       "cap-shape                object\n",
       "cap-color                object\n",
       "does-bruise-or-bleed     object\n",
       "gill-attachment          object\n",
       "gill-color               object\n",
       "stem-height             float64\n",
       "stem-width              float64\n",
       "stem-color               object\n",
       "has-ring                 object\n",
       "ring-type                object\n",
       "habitat                  object\n",
       "season                   object\n",
       "miss_gill                 int64\n",
       "miss_ring                 int64\n",
       "dtype: object"
      ]
     },
     "execution_count": 23,
     "metadata": {},
     "output_type": "execute_result"
    }
   ],
   "source": [
    "Xy_train.dtypes"
   ]
  },
  {
   "cell_type": "markdown",
   "id": "50d385ff-56eb-48b0-a4f7-f2d0a2fe2caa",
   "metadata": {
    "id": "50d385ff-56eb-48b0-a4f7-f2d0a2fe2caa"
   },
   "source": [
    "-------------------"
   ]
  },
  {
   "cell_type": "markdown",
   "id": "Gv0X3ky4kETX",
   "metadata": {
    "id": "Gv0X3ky4kETX"
   },
   "source": [
    "# Exploratory Data Analysis"
   ]
  },
  {
   "cell_type": "markdown",
   "id": "83e5f2ce-2052-48e4-8d6d-64968d2aa2c6",
   "metadata": {
    "id": "83e5f2ce-2052-48e4-8d6d-64968d2aa2c6"
   },
   "source": [
    "### Skewness and Outiers\n",
    "\n",
    "We will use histogram and boxplots to check the distribution of the variables and outliers"
   ]
  },
  {
   "cell_type": "code",
   "execution_count": 24,
   "id": "658de0d5-fa1b-4f0c-835f-c6a72f0031d2",
   "metadata": {
    "id": "658de0d5-fa1b-4f0c-835f-c6a72f0031d2"
   },
   "outputs": [],
   "source": [
    "sns.set(font_scale=1)\n",
    "sns.set_context(\"talk\")\n",
    "sns.set_style(\"whitegrid\")"
   ]
  },
  {
   "cell_type": "code",
   "execution_count": 25,
   "id": "c8053e47-844e-43b9-928b-ae830a09fceb",
   "metadata": {
    "colab": {
     "base_uri": "https://localhost:8080/",
     "height": 888
    },
    "id": "c8053e47-844e-43b9-928b-ae830a09fceb",
    "outputId": "c27431b0-82c1-466e-bdac-9d1156d67218"
   },
   "outputs": [
    {
     "data": {
      "image/png": "[encoded data removed]",
      "text/plain": [
       "<Figure size 1008x1008 with 3 Axes>"
      ]
     },
     "metadata": {},
     "output_type": "display_data"
    }
   ],
   "source": [
    "def histogram_eda(data):\n",
    "    fig, ax = plt.subplots(3, 1, figsize=(14, 14))\n",
    "    ax = ax.flatten()\n",
    "\n",
    "    labels = [\"a\", \"s\", \"u\", \"w\"]\n",
    "    for ax,feature in zip(ax, num_col):\n",
    "        ax = sns.histplot(x = feature, ax = ax, hue = 'season', kde = True, fill = False, data = data,\n",
    "                          legend = False)\n",
    "        ax.legend(labels = labels,loc = \"upper right\", framealpha = 0.3, fontsize = 'x-small', \n",
    "                  handlelength = 0.1, labelspacing = 0.1)\n",
    "\n",
    "    plt.tight_layout()\n",
    "            \n",
    "histogram_eda(Xy_train)"
   ]
  },
  {
   "cell_type": "markdown",
   "id": "0JI1563lnCU8",
   "metadata": {
    "id": "0JI1563lnCU8"
   },
   "source": [
    "* Cap-diameter and Stem-width both seems to have right tail distribution"
   ]
  },
  {
   "cell_type": "code",
   "execution_count": 26,
   "id": "83e1c4f5-0085-4aa9-b8b6-d1455e102e5a",
   "metadata": {
    "colab": {
     "base_uri": "https://localhost:8080/",
     "height": 888
    },
    "id": "83e1c4f5-0085-4aa9-b8b6-d1455e102e5a",
    "outputId": "4512f4d0-4bb6-495b-883d-1584b93f4bf4"
   },
   "outputs": [
    {
     "data": {
      "image/png": "[encoded data removed]",
      "text/plain": [
       "<Figure size 1008x1008 with 3 Axes>"
      ]
     },
     "metadata": {},
     "output_type": "display_data"
    }
   ],
   "source": [
    "def boxplots_eda(data):\n",
    "    fig, ax = plt.subplots(3, 1, figsize=(14, 14))\n",
    "    ax = ax.flatten()\n",
    "    \n",
    "    labels = [\"a\", \"s\", \"u\", \"w\"]\n",
    "    for ax,feature in zip(ax,num_col):\n",
    "        ax = sns.boxplot(ax=ax, x='season', y=feature, data = data)\n",
    "        plt.tight_layout()\n",
    "                \n",
    "boxplots_eda(Xy_train)"
   ]
  },
  {
   "cell_type": "markdown",
   "id": "Tm6dqV9onNUa",
   "metadata": {
    "id": "Tm6dqV9onNUa"
   },
   "source": [
    "We notice a lot of outliers across all numeric columns with respect to different seasons"
   ]
  },
  {
   "cell_type": "code",
   "execution_count": 27,
   "id": "7f57bcb3-1e4e-4cbd-8648-d67b28922ada",
   "metadata": {
    "colab": {
     "base_uri": "https://localhost:8080/",
     "height": 206
    },
    "id": "7f57bcb3-1e4e-4cbd-8648-d67b28922ada",
    "outputId": "d322048a-b484-466d-ec30-9fe81179cd1b"
   },
   "outputs": [
    {
     "data": {
      "text/html": [
       "\n",
       "  <div id=\"df-52b433c8-2b41-45be-8fc1-b0906b71fa83\">\n",
       "    <div class=\"colab-df-container\">\n",
       "      <div>\n",
       "<style scoped>\n",
       "    .dataframe tbody tr th:only-of-type {\n",
       "        vertical-align: middle;\n",
       "    }\n",
       "\n",
       "    .dataframe tbody tr th {\n",
       "        vertical-align: top;\n",
       "    }\n",
       "\n",
       "    .dataframe thead th {\n",
       "        text-align: right;\n",
       "    }\n",
       "</style>\n",
       "<table border=\"1\" class=\"dataframe\">\n",
       "  <thead>\n",
       "    <tr style=\"text-align: right;\">\n",
       "      <th></th>\n",
       "      <th>cap-diameter</th>\n",
       "      <th>stem-height</th>\n",
       "      <th>stem-width</th>\n",
       "    </tr>\n",
       "    <tr>\n",
       "      <th>season</th>\n",
       "      <th></th>\n",
       "      <th></th>\n",
       "      <th></th>\n",
       "    </tr>\n",
       "  </thead>\n",
       "  <tbody>\n",
       "    <tr>\n",
       "      <th>a</th>\n",
       "      <td>1.840834</td>\n",
       "      <td>7.401062</td>\n",
       "      <td>11.138233</td>\n",
       "    </tr>\n",
       "    <tr>\n",
       "      <th>s</th>\n",
       "      <td>12.005886</td>\n",
       "      <td>7.676801</td>\n",
       "      <td>0.269495</td>\n",
       "    </tr>\n",
       "    <tr>\n",
       "      <th>u</th>\n",
       "      <td>27.426927</td>\n",
       "      <td>8.464368</td>\n",
       "      <td>9.501876</td>\n",
       "    </tr>\n",
       "    <tr>\n",
       "      <th>w</th>\n",
       "      <td>1.180545</td>\n",
       "      <td>5.222309</td>\n",
       "      <td>3.385730</td>\n",
       "    </tr>\n",
       "  </tbody>\n",
       "</table>\n",
       "</div>\n",
       "      <button class=\"colab-df-convert\" onclick=\"convertToInteractive('df-52b433c8-2b41-45be-8fc1-b0906b71fa83')\"\n",
       "              title=\"Convert this dataframe to an interactive table.\"\n",
       "              style=\"display:none;\">\n",
       "        \n",
       "  <svg xmlns=\"http://www.w3.org/2000/svg\" height=\"24px\"viewBox=\"0 0 24 24\"\n",
       "       width=\"24px\">\n",
       "    <path d=\"M0 0h24v24H0V0z\" fill=\"none\"/>\n",
       "    <path d=\"M18.56 5.44l.94 2.06.94-2.06 2.06-.94-2.06-.94-.94-2.06-.94 2.06-2.06.94zm-11 1L8.5 8.5l.94-2.06 2.06-.94-2.06-.94L8.5 2.5l-.94 2.06-2.06.94zm10 10l.94 2.06.94-2.06 2.06-.94-2.06-.94-.94-2.06-.94 2.06-2.06.94z\"/><path d=\"M17.41 7.96l-1.37-1.37c-.4-.4-.92-.59-1.43-.59-.52 0-1.04.2-1.43.59L10.3 9.45l-7.72 7.72c-.78.78-.78 2.05 0 2.83L4 21.41c.39.39.9.59 1.41.59.51 0 1.02-.2 1.41-.59l7.78-7.78 2.81-2.81c.8-.78.8-2.07 0-2.86zM5.41 20L4 18.59l7.72-7.72 1.47 1.35L5.41 20z\"/>\n",
       "  </svg>\n",
       "      </button>\n",
       "      \n",
       "  <style>\n",
       "    .colab-df-container {\n",
       "      display:flex;\n",
       "      flex-wrap:wrap;\n",
       "      gap: 12px;\n",
       "    }\n",
       "\n",
       "    .colab-df-convert {\n",
       "      background-color: #E8F0FE;\n",
       "      border: none;\n",
       "      border-radius: 50%;\n",
       "      cursor: pointer;\n",
       "      display: none;\n",
       "      fill: #1967D2;\n",
       "      height: 32px;\n",
       "      padding: 0 0 0 0;\n",
       "      width: 32px;\n",
       "    }\n",
       "\n",
       "    .colab-df-convert:hover {\n",
       "      background-color: #E2EBFA;\n",
       "      box-shadow: 0px 1px 2px rgba(60, 64, 67, 0.3), 0px 1px 3px 1px rgba(60, 64, 67, 0.15);\n",
       "      fill: #174EA6;\n",
       "    }\n",
       "\n",
       "    [theme=dark] .colab-df-convert {\n",
       "      background-color: #3B4455;\n",
       "      fill: #D2E3FC;\n",
       "    }\n",
       "\n",
       "    [theme=dark] .colab-df-convert:hover {\n",
       "      background-color: #434B5C;\n",
       "      box-shadow: 0px 1px 3px 1px rgba(0, 0, 0, 0.15);\n",
       "      filter: drop-shadow(0px 1px 2px rgba(0, 0, 0, 0.3));\n",
       "      fill: #FFFFFF;\n",
       "    }\n",
       "  </style>\n",
       "\n",
       "      <script>\n",
       "        const buttonEl =\n",
       "          document.querySelector('#df-52b433c8-2b41-45be-8fc1-b0906b71fa83 button.colab-df-convert');\n",
       "        buttonEl.style.display =\n",
       "          google.colab.kernel.accessAllowed ? 'block' : 'none';\n",
       "\n",
       "        async function convertToInteractive(key) {\n",
       "          const element = document.querySelector('#df-52b433c8-2b41-45be-8fc1-b0906b71fa83');\n",
       "          const dataTable =\n",
       "            await google.colab.kernel.invokeFunction('convertToInteractive',\n",
       "                                                     [key], {});\n",
       "          if (!dataTable) return;\n",
       "\n",
       "          const docLinkHtml = 'Like what you see? Visit the ' +\n",
       "            '<a target=\"_blank\" href=https://colab.research.google.com/notebooks/data_table.ipynb>data table notebook</a>'\n",
       "            + ' to learn more about interactive tables.';\n",
       "          element.innerHTML = '';\n",
       "          dataTable['output_type'] = 'display_data';\n",
       "          await google.colab.output.renderOutput(dataTable, element);\n",
       "          const docLink = document.createElement('div');\n",
       "          docLink.innerHTML = docLinkHtml;\n",
       "          element.appendChild(docLink);\n",
       "        }\n",
       "      </script>\n",
       "    </div>\n",
       "  </div>\n",
       "  "
      ],
      "text/plain": [
       "        cap-diameter  stem-height  stem-width\n",
       "season                                       \n",
       "a           1.840834     7.401062   11.138233\n",
       "s          12.005886     7.676801    0.269495\n",
       "u          27.426927     8.464368    9.501876\n",
       "w           1.180545     5.222309    3.385730"
      ]
     },
     "execution_count": 27,
     "metadata": {},
     "output_type": "execute_result"
    }
   ],
   "source": [
    "df.groupby(by = 'season').apply(pd.DataFrame.kurt, numeric_only = True)"
   ]
  },
  {
   "cell_type": "markdown",
   "id": "G8FyQAcvmw1C",
   "metadata": {
    "id": "G8FyQAcvmw1C"
   },
   "source": [
    "Kurtosis greater than 3 indicates heavier tails than normal distribution, hence an indication of more outliers"
   ]
  },
  {
   "cell_type": "markdown",
   "id": "_5_WYl1wnfTH",
   "metadata": {
    "id": "_5_WYl1wnfTH"
   },
   "source": [
    "Note: We can perform transformations to make our data more normal (Also, they can help in fixing of outliers) as they are important for Logistic, Knn models etc. However, here we will demonstrating use of tree based algorithms and thus it isn't necessary to do the same for them."
   ]
  },
  {
   "cell_type": "markdown",
   "id": "b529fad2-558d-4617-9b3f-22e10a847928",
   "metadata": {
    "id": "b529fad2-558d-4617-9b3f-22e10a847928"
   },
   "source": [
    "-------------------"
   ]
  },
  {
   "cell_type": "markdown",
   "id": "mTYbMnVEoGAe",
   "metadata": {
    "id": "mTYbMnVEoGAe"
   },
   "source": [
    "# Encoding"
   ]
  },
  {
   "cell_type": "markdown",
   "id": "3e8e4eb4-0c89-4000-bcaf-3a52fadf026b",
   "metadata": {
    "id": "3e8e4eb4-0c89-4000-bcaf-3a52fadf026b"
   },
   "source": [
    "Before we can feed our input and output to the model it needs to be encoded to numeric type.\n",
    "\n",
    "We will use 'Label Encoder' for outcome variable, 'Ordinal Encoder' for binary variables and 'CatBoostEncoder' for explanatory variables with alphabetical order (more than 2 categories\n",
    "\n",
    "* Note 1: We can use one hot encoding inplace of target/mean encoding. However, high cardinality affects tree based algorithms and thus target/mean encoding is the preferred method.\n",
    "\n",
    "* Note 2: Instead of 'Ordinal Encoder' for binary variables, we can also manually encode using numpy replace or choice."
   ]
  },
  {
   "cell_type": "markdown",
   "id": "ulOi5T73_bc9",
   "metadata": {
    "id": "ulOi5T73_bc9"
   },
   "source": [
    "Label Encoding - Ouput Categorical Variable"
   ]
  },
  {
   "cell_type": "code",
   "execution_count": 28,
   "id": "79bef86a-456b-4c88-9bf4-1ba1fffec173",
   "metadata": {
    "id": "79bef86a-456b-4c88-9bf4-1ba1fffec173"
   },
   "outputs": [],
   "source": [
    "from sklearn import preprocessing"
   ]
  },
  {
   "cell_type": "code",
   "execution_count": 29,
   "id": "13a51dce-576a-4977-a2d6-165f8267e3c1",
   "metadata": {
    "colab": {
     "base_uri": "https://localhost:8080/"
    },
    "id": "13a51dce-576a-4977-a2d6-165f8267e3c1",
    "outputId": "31fc4b6a-46ed-4c73-c7f3-d3da13f07341"
   },
   "outputs": [
    {
     "data": {
      "text/plain": [
       "LabelEncoder()"
      ]
     },
     "execution_count": 29,
     "metadata": {},
     "output_type": "execute_result"
    }
   ],
   "source": [
    "le = preprocessing.LabelEncoder()\n",
    "le.fit(Xy_train['season'])"
   ]
  },
  {
   "cell_type": "code",
   "execution_count": 30,
   "id": "42d7238b-239f-4d74-ae0b-a087324d1a8e",
   "metadata": {
    "id": "42d7238b-239f-4d74-ae0b-a087324d1a8e"
   },
   "outputs": [],
   "source": [
    "Xy_train['season'] = le.transform(Xy_train['season'])"
   ]
  },
  {
   "cell_type": "markdown",
   "id": "ZexYjlDn_dgN",
   "metadata": {
    "id": "ZexYjlDn_dgN"
   },
   "source": [
    "Ordinal Encoding - Input Binary Variables"
   ]
  },
  {
   "cell_type": "code",
   "execution_count": 31,
   "id": "ced3bb8c-70f0-47f3-b55e-094b8b33ac25",
   "metadata": {
    "colab": {
     "base_uri": "https://localhost:8080/"
    },
    "id": "ced3bb8c-70f0-47f3-b55e-094b8b33ac25",
    "outputId": "f36bb90b-8b33-4500-914f-16c9bf9a00be"
   },
   "outputs": [
    {
     "data": {
      "text/plain": [
       "OrdinalEncoder()"
      ]
     },
     "execution_count": 31,
     "metadata": {},
     "output_type": "execute_result"
    }
   ],
   "source": [
    "oe = preprocessing.OrdinalEncoder()\n",
    "oe.fit(Xy_train[bin_col])"
   ]
  },
  {
   "cell_type": "code",
   "execution_count": 32,
   "id": "2d82f213-14d1-4166-842b-a59aa04914c1",
   "metadata": {
    "colab": {
     "base_uri": "https://localhost:8080/"
    },
    "id": "2d82f213-14d1-4166-842b-a59aa04914c1",
    "outputId": "35e3ee3f-6f3c-424d-fb14-211244c85c6a"
   },
   "outputs": [
    {
     "data": {
      "text/plain": [
       "[array(['e', 'p'], dtype=object),\n",
       " array(['f', 't'], dtype=object),\n",
       " array(['f', 't'], dtype=object)]"
      ]
     },
     "execution_count": 32,
     "metadata": {},
     "output_type": "execute_result"
    }
   ],
   "source": [
    "oe.categories_"
   ]
  },
  {
   "cell_type": "code",
   "execution_count": 33,
   "id": "02746491-20b8-46e1-811b-435bbf889cd9",
   "metadata": {
    "id": "02746491-20b8-46e1-811b-435bbf889cd9"
   },
   "outputs": [],
   "source": [
    "Xy_train[bin_col] = oe.transform(Xy_train[bin_col]).astype(int)"
   ]
  },
  {
   "cell_type": "markdown",
   "id": "9a82da91-964b-486b-9cbd-f8b0dfc01232",
   "metadata": {
    "id": "9a82da91-964b-486b-9cbd-f8b0dfc01232"
   },
   "source": [
    "Category Encoder - Input Categorical Variables"
   ]
  },
  {
   "cell_type": "code",
   "execution_count": 34,
   "id": "JjWRy99V_ysV",
   "metadata": {
    "colab": {
     "base_uri": "https://localhost:8080/"
    },
    "id": "JjWRy99V_ysV",
    "outputId": "2363e0ca-95e0-4bf4-b747-cbfa36a1c510"
   },
   "outputs": [
    {
     "name": "stdout",
     "output_type": "stream",
     "text": [
      "Requirement already satisfied: category_encoders in /usr/local/lib/python3.7/dist-packages (2.4.0)\n",
      "Requirement already satisfied: statsmodels>=0.9.0 in /usr/local/lib/python3.7/dist-packages (from category_encoders) (0.10.2)\n",
      "Requirement already satisfied: patsy>=0.5.1 in /usr/local/lib/python3.7/dist-packages (from category_encoders) (0.5.2)\n",
      "Requirement already satisfied: numpy>=1.14.0 in /usr/local/lib/python3.7/dist-packages (from category_encoders) (1.21.6)\n",
      "Requirement already satisfied: pandas>=0.21.1 in /usr/local/lib/python3.7/dist-packages (from category_encoders) (1.3.5)\n",
      "Requirement already satisfied: scikit-learn>=0.20.0 in /usr/local/lib/python3.7/dist-packages (from category_encoders) (1.0.2)\n",
      "Requirement already satisfied: scipy>=1.0.0 in /usr/local/lib/python3.7/dist-packages (from category_encoders) (1.4.1)\n",
      "Requirement already satisfied: pytz>=2017.3 in /usr/local/lib/python3.7/dist-packages (from pandas>=0.21.1->category_encoders) (2022.1)\n",
      "Requirement already satisfied: python-dateutil>=2.7.3 in /usr/local/lib/python3.7/dist-packages (from pandas>=0.21.1->category_encoders) (2.8.2)\n",
      "Requirement already satisfied: six in /usr/local/lib/python3.7/dist-packages (from patsy>=0.5.1->category_encoders) (1.15.0)\n",
      "Requirement already satisfied: threadpoolctl>=2.0.0 in /usr/local/lib/python3.7/dist-packages (from scikit-learn>=0.20.0->category_encoders) (3.1.0)\n",
      "Requirement already satisfied: joblib>=0.11 in /usr/local/lib/python3.7/dist-packages (from scikit-learn>=0.20.0->category_encoders) (1.1.0)\n"
     ]
    }
   ],
   "source": [
    "! pip install category_encoders "
   ]
  },
  {
   "cell_type": "code",
   "execution_count": 35,
   "id": "95533a06-1bb1-4bff-b0f8-9704542070a9",
   "metadata": {
    "colab": {
     "base_uri": "https://localhost:8080/"
    },
    "id": "95533a06-1bb1-4bff-b0f8-9704542070a9",
    "outputId": "edc15579-c250-4b4b-faef-8846b390c81e"
   },
   "outputs": [
    {
     "name": "stderr",
     "output_type": "stream",
     "text": [
      "/usr/local/lib/python3.7/dist-packages/statsmodels/tools/_testing.py:19: FutureWarning: pandas.util.testing is deprecated. Use the functions in the public API at pandas.testing instead.\n",
      "  import pandas.util.testing as tm\n"
     ]
    }
   ],
   "source": [
    "import category_encoders as ce "
   ]
  },
  {
   "cell_type": "code",
   "execution_count": 36,
   "id": "e331ff5c-59fd-4a61-a0e2-8bc4c46a5659",
   "metadata": {
    "colab": {
     "base_uri": "https://localhost:8080/"
    },
    "id": "e331ff5c-59fd-4a61-a0e2-8bc4c46a5659",
    "outputId": "b5f6f6f0-e6cd-45ff-a5dc-466b1eef76d3"
   },
   "outputs": [
    {
     "data": {
      "text/plain": [
       "CatBoostEncoder(cols=['cap-shape', 'cap-color', 'gill-attachment', 'gill-color',\n",
       "                      'stem-color', 'ring-type', 'habitat'])"
      ]
     },
     "execution_count": 36,
     "metadata": {},
     "output_type": "execute_result"
    }
   ],
   "source": [
    "#count encoder \n",
    "cat_encoder = ce.CatBoostEncoder(cols = cat_col)\n",
    "cat_encoder.fit(Xy_train[cat_col], y = Xy_train['season'])"
   ]
  },
  {
   "cell_type": "code",
   "execution_count": 37,
   "id": "4191ed8e-bace-4463-8407-9a3f43d2eb31",
   "metadata": {
    "id": "4191ed8e-bace-4463-8407-9a3f43d2eb31"
   },
   "outputs": [],
   "source": [
    "Xy_train = Xy_train.join(cat_encoder.transform(Xy_train[cat_col]).add_suffix('_count'))"
   ]
  },
  {
   "cell_type": "code",
   "execution_count": 38,
   "id": "a220ce81-4db6-4bd9-aaef-bc5b054e0431",
   "metadata": {
    "id": "a220ce81-4db6-4bd9-aaef-bc5b054e0431"
   },
   "outputs": [],
   "source": [
    "Xy_train.drop(columns = cat_col, inplace = True)"
   ]
  },
  {
   "cell_type": "code",
   "execution_count": 39,
   "id": "17ffb82e-9543-49b0-976b-daf78769c15c",
   "metadata": {
    "colab": {
     "base_uri": "https://localhost:8080/"
    },
    "id": "17ffb82e-9543-49b0-976b-daf78769c15c",
    "outputId": "69283880-61cb-412d-87f6-af991766ec10"
   },
   "outputs": [
    {
     "data": {
      "text/plain": [
       "edible-poisonous           int64\n",
       "cap-diameter             float64\n",
       "does-bruise-or-bleed       int64\n",
       "stem-height              float64\n",
       "stem-width               float64\n",
       "has-ring                   int64\n",
       "season                     int64\n",
       "miss_gill                  int64\n",
       "miss_ring                  int64\n",
       "cap-shape_count          float64\n",
       "cap-color_count          float64\n",
       "gill-attachment_count    float64\n",
       "gill-color_count         float64\n",
       "stem-color_count         float64\n",
       "ring-type_count          float64\n",
       "habitat_count            float64\n",
       "dtype: object"
      ]
     },
     "execution_count": 39,
     "metadata": {},
     "output_type": "execute_result"
    }
   ],
   "source": [
    "Xy_train.dtypes"
   ]
  },
  {
   "cell_type": "markdown",
   "id": "d0aa0a2d-073c-4c04-a6f0-a1708cc6f582",
   "metadata": {
    "id": "d0aa0a2d-073c-4c04-a6f0-a1708cc6f582"
   },
   "source": [
    "----------"
   ]
  },
  {
   "cell_type": "markdown",
   "id": "369f3539-6afb-43d1-9958-c2d3c7a173cb",
   "metadata": {
    "id": "369f3539-6afb-43d1-9958-c2d3c7a173cb"
   },
   "source": [
    "# Transforming Test Data"
   ]
  },
  {
   "cell_type": "markdown",
   "id": "nzVL_v8pBuyN",
   "metadata": {
    "id": "nzVL_v8pBuyN"
   },
   "source": [
    "Once train data set is prepared we can do the same steps with test data set.\n",
    "\n",
    "Note: We should set up a pipeline to perform the necessary operations thus making it easier when we will be deploying our model. "
   ]
  },
  {
   "cell_type": "markdown",
   "id": "4Z5VQeRICdTh",
   "metadata": {
    "id": "4Z5VQeRICdTh"
   },
   "source": [
    "Test Data - Missing Value Treatment"
   ]
  },
  {
   "cell_type": "code",
   "execution_count": 40,
   "id": "251b9e5f-2e85-458d-9939-4b64f0838845",
   "metadata": {
    "id": "251b9e5f-2e85-458d-9939-4b64f0838845"
   },
   "outputs": [],
   "source": [
    "Xy_test['miss_gill'] = Xy_test['gill-attachment'].fillna(0)"
   ]
  },
  {
   "cell_type": "code",
   "execution_count": 41,
   "id": "2268573c-f251-42ea-810e-221b77a816a2",
   "metadata": {
    "id": "2268573c-f251-42ea-810e-221b77a816a2"
   },
   "outputs": [],
   "source": [
    "Xy_test['miss_ring'] = Xy_test['ring-type'].fillna(0)"
   ]
  },
  {
   "cell_type": "code",
   "execution_count": 42,
   "id": "204d63e7-fda8-441d-82c5-b88bf7974cf2",
   "metadata": {
    "id": "204d63e7-fda8-441d-82c5-b88bf7974cf2"
   },
   "outputs": [],
   "source": [
    "Xy_test['miss_gill'].where(Xy_test['miss_gill'] == 0, 1, inplace = True)"
   ]
  },
  {
   "cell_type": "code",
   "execution_count": 43,
   "id": "673686b8-8dc7-41db-afd2-13508e492e25",
   "metadata": {
    "id": "673686b8-8dc7-41db-afd2-13508e492e25"
   },
   "outputs": [],
   "source": [
    "Xy_test['miss_ring'].where(Xy_test['miss_ring'] == 0, 1, inplace = True)"
   ]
  },
  {
   "cell_type": "code",
   "execution_count": 44,
   "id": "5f80be05-e9f0-4f33-8dd1-7ad5abdea009",
   "metadata": {
    "id": "5f80be05-e9f0-4f33-8dd1-7ad5abdea009"
   },
   "outputs": [],
   "source": [
    "Xy_test = Xy_test.fillna('miss')"
   ]
  },
  {
   "cell_type": "markdown",
   "id": "3921d0a9-d836-4fa9-8d1a-2df0265b3d5b",
   "metadata": {
    "id": "3921d0a9-d836-4fa9-8d1a-2df0265b3d5b"
   },
   "source": [
    "Test Data - Encoding Variables"
   ]
  },
  {
   "cell_type": "code",
   "execution_count": 45,
   "id": "77f2f04d-9830-4301-b88f-ee953580213d",
   "metadata": {
    "id": "77f2f04d-9830-4301-b88f-ee953580213d"
   },
   "outputs": [],
   "source": [
    "Xy_test['season'] = le.transform(Xy_test['season'])"
   ]
  },
  {
   "cell_type": "code",
   "execution_count": 46,
   "id": "f6c7d22b-86b3-49f7-91c5-30560c0ba7d2",
   "metadata": {
    "id": "f6c7d22b-86b3-49f7-91c5-30560c0ba7d2"
   },
   "outputs": [],
   "source": [
    "Xy_test[bin_col] = oe.transform(Xy_test[bin_col]).astype(int)"
   ]
  },
  {
   "cell_type": "code",
   "execution_count": 47,
   "id": "0cf3803f-9942-4923-a9bb-d5540983878e",
   "metadata": {
    "id": "0cf3803f-9942-4923-a9bb-d5540983878e"
   },
   "outputs": [],
   "source": [
    "Xy_test = Xy_test.join(cat_encoder.transform(Xy_test[cat_col]).add_suffix('_count'))"
   ]
  },
  {
   "cell_type": "code",
   "execution_count": 48,
   "id": "e5909337-b1be-4c5d-8340-3583831de139",
   "metadata": {
    "id": "e5909337-b1be-4c5d-8340-3583831de139"
   },
   "outputs": [],
   "source": [
    "Xy_test.drop(columns = cat_col, inplace = True)"
   ]
  },
  {
   "cell_type": "code",
   "execution_count": 49,
   "id": "6070ffee-c9ee-4fae-a262-d53b30d6792b",
   "metadata": {
    "colab": {
     "base_uri": "https://localhost:8080/"
    },
    "id": "6070ffee-c9ee-4fae-a262-d53b30d6792b",
    "outputId": "eaa6dd03-e867-4248-f0e2-d8fea80e0c70"
   },
   "outputs": [
    {
     "data": {
      "text/plain": [
       "edible-poisonous           int64\n",
       "cap-diameter             float64\n",
       "does-bruise-or-bleed       int64\n",
       "stem-height              float64\n",
       "stem-width               float64\n",
       "has-ring                   int64\n",
       "season                     int64\n",
       "miss_gill                  int64\n",
       "miss_ring                  int64\n",
       "cap-shape_count          float64\n",
       "cap-color_count          float64\n",
       "gill-attachment_count    float64\n",
       "gill-color_count         float64\n",
       "stem-color_count         float64\n",
       "ring-type_count          float64\n",
       "habitat_count            float64\n",
       "dtype: object"
      ]
     },
     "execution_count": 49,
     "metadata": {},
     "output_type": "execute_result"
    }
   ],
   "source": [
    "Xy_test.dtypes"
   ]
  },
  {
   "cell_type": "markdown",
   "id": "47e8d6f2-a49e-48f0-8998-7c5006e6f6ae",
   "metadata": {
    "id": "47e8d6f2-a49e-48f0-8998-7c5006e6f6ae"
   },
   "source": [
    "# Saving Train and Test Data"
   ]
  },
  {
   "cell_type": "markdown",
   "id": "kZ0V3PEZDDQu",
   "metadata": {
    "id": "kZ0V3PEZDDQu"
   },
   "source": [
    "Once data wrangling is finished, we will save our train and test datasets and perform modelling separately. "
   ]
  },
  {
   "cell_type": "code",
   "execution_count": 50,
   "id": "c7214015-adf7-4eec-854d-c004ec6e0d83",
   "metadata": {
    "id": "c7214015-adf7-4eec-854d-c004ec6e0d83"
   },
   "outputs": [],
   "source": [
    "## Saving after data wrangling, EDA and preprocessing of data.\n",
    "\n",
    "outputfile_1 = 'season_train.csv'\n",
    "outputfile_2 = 'season_test.csv'\n",
    "Xy_train.to_csv(outputfile_1, index = False)\n",
    "Xy_test.to_csv(outputfile_2, index = False)"
   ]
  }
 ],
 "metadata": {
  "colab": {
   "collapsed_sections": [],
   "name": "Predict_Season_Wrangle (Multi Label).ipynb",
   "provenance": []
  },
  "kernelspec": {
   "display_name": "Python 3 (ipykernel)",
   "language": "python",
   "name": "python3"
  },
  "language_info": {
   "codemirror_mode": {
    "name": "ipython",
    "version": 3
   },
   "file_extension": ".py",
   "mimetype": "text/x-python",
   "name": "python",
   "nbconvert_exporter": "python",
   "pygments_lexer": "ipython3",
   "version": "3.9.11"
  }
 },
 "nbformat": 4,
 "nbformat_minor": 5
}
